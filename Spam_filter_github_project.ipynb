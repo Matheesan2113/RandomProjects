{
  "nbformat": 4,
  "nbformat_minor": 0,
  "metadata": {
    "colab": {
      "name": "Spam filter github project.ipynb",
      "provenance": [],
      "authorship_tag": "ABX9TyME+pfRT4zQdOasTRs+InD3",
      "include_colab_link": true
    },
    "kernelspec": {
      "name": "python3",
      "display_name": "Python 3"
    }
  },
  "cells": [
    {
      "cell_type": "markdown",
      "metadata": {
        "id": "view-in-github",
        "colab_type": "text"
      },
      "source": [
        "<a href=\"https://colab.research.google.com/github/Matheesan2113/RandomProjects/blob/master/Spam_filter_github_project.ipynb\" target=\"_parent\"><img src=\"https://colab.research.google.com/assets/colab-badge.svg\" alt=\"Open In Colab\"/></a>"
      ]
    },
    {
      "cell_type": "markdown",
      "metadata": {
        "id": "PNbkfPbQKsjv",
        "colab_type": "text"
      },
      "source": [
        "Projects in NLP Spam Filter --> Youtube. FIX REGEX CONDITIONS"
      ]
    },
    {
      "cell_type": "code",
      "metadata": {
        "id": "_paglSh-_V6R",
        "colab_type": "code",
        "colab": {
          "base_uri": "https://localhost:8080/",
          "height": 85
        },
        "outputId": "4639a993-4fdc-4803-eb04-070743646b21"
      },
      "source": [
        "import sys\n",
        "import nltk\n",
        "import sklearn\n",
        "import pandas\n",
        "import numpy\n",
        "\n",
        "print('version: '+ sys.version)\n",
        "print('pandas: ' + pandas.__version__)\n",
        "print('numpy: ' + numpy.__version__)"
      ],
      "execution_count": 22,
      "outputs": [
        {
          "output_type": "stream",
          "text": [
            "version: 3.6.9 (default, Jul 17 2020, 12:50:27) \n",
            "[GCC 8.4.0]\n",
            "pandas: 1.0.5\n",
            "numpy: 1.18.5\n"
          ],
          "name": "stdout"
        }
      ]
    },
    {
      "cell_type": "markdown",
      "metadata": {
        "id": "EbTRtipdBZJz",
        "colab_type": "text"
      },
      "source": [
        "## Load Dataset\n"
      ]
    },
    {
      "cell_type": "code",
      "metadata": {
        "id": "1OtByTgZ_8OM",
        "colab_type": "code",
        "colab": {
          "base_uri": "https://localhost:8080/",
          "height": 289
        },
        "outputId": "b4be06f3-b8a0-4a3d-86a3-bd4a31dd0232"
      },
      "source": [
        "import pandas as pd\n",
        "import numpy as np\n",
        "\n",
        "#Load dataset sms messages#\n",
        "df = pd.read_table('SMSSpamCollection', header = None, encoding = \"utf-8\")\n",
        "\n",
        "print(df.info())\n",
        "print(df.head())"
      ],
      "execution_count": 23,
      "outputs": [
        {
          "output_type": "stream",
          "text": [
            "<class 'pandas.core.frame.DataFrame'>\n",
            "RangeIndex: 5572 entries, 0 to 5571\n",
            "Data columns (total 2 columns):\n",
            " #   Column  Non-Null Count  Dtype \n",
            "---  ------  --------------  ----- \n",
            " 0   0       5572 non-null   object\n",
            " 1   1       5572 non-null   object\n",
            "dtypes: object(2)\n",
            "memory usage: 87.2+ KB\n",
            "None\n",
            "      0                                                  1\n",
            "0   ham  Go until jurong point, crazy.. Available only ...\n",
            "1   ham                      Ok lar... Joking wif u oni...\n",
            "2  spam  Free entry in 2 a wkly comp to win FA Cup fina...\n",
            "3   ham  U dun say so early hor... U c already then say...\n",
            "4   ham  Nah I don't think he goes to usf, he lives aro...\n"
          ],
          "name": "stdout"
        }
      ]
    },
    {
      "cell_type": "code",
      "metadata": {
        "id": "bUB9FwajBmMK",
        "colab_type": "code",
        "colab": {
          "base_uri": "https://localhost:8080/",
          "height": 68
        },
        "outputId": "d3fd3f99-e449-4638-a238-2e2f4f6962e8"
      },
      "source": [
        "# Check Class Distribution (Can affect performance of ML Algorithms, so you want to normalize this)\n",
        "classes = df[0]\n",
        "print(classes.value_counts())"
      ],
      "execution_count": 24,
      "outputs": [
        {
          "output_type": "stream",
          "text": [
            "ham     4825\n",
            "spam     747\n",
            "Name: 0, dtype: int64\n"
          ],
          "name": "stdout"
        }
      ]
    },
    {
      "cell_type": "markdown",
      "metadata": {
        "id": "acA0HI26B6FC",
        "colab_type": "text"
      },
      "source": [
        "## Pre-process Data"
      ]
    },
    {
      "cell_type": "code",
      "metadata": {
        "id": "SjKZQFjrB-EX",
        "colab_type": "code",
        "colab": {
          "base_uri": "https://localhost:8080/",
          "height": 221
        },
        "outputId": "6c762d80-52bf-440e-e386-3a86d1df78a9"
      },
      "source": [
        "# Convert class labels to binary values\n",
        "## use sklearn label encoders to change labels to binary values\n",
        "\n",
        "from sklearn.preprocessing import LabelEncoder\n",
        "encoder = LabelEncoder()\n",
        "Y = encoder.fit_transform(classes)\n",
        "\n",
        "print(classes[:10])\n",
        "print(Y[:10])"
      ],
      "execution_count": 25,
      "outputs": [
        {
          "output_type": "stream",
          "text": [
            "0     ham\n",
            "1     ham\n",
            "2    spam\n",
            "3     ham\n",
            "4     ham\n",
            "5    spam\n",
            "6     ham\n",
            "7     ham\n",
            "8    spam\n",
            "9    spam\n",
            "Name: 0, dtype: object\n",
            "[0 0 1 0 0 1 0 0 1 1]\n"
          ],
          "name": "stdout"
        }
      ]
    },
    {
      "cell_type": "code",
      "metadata": {
        "id": "Q5oO6dITChpk",
        "colab_type": "code",
        "colab": {
          "base_uri": "https://localhost:8080/",
          "height": 204
        },
        "outputId": "92f3ca63-9b49-4652-e756-aab79e2a7a9b"
      },
      "source": [
        "# Store SMS text message data\n",
        "\n",
        "text_messages = df[1]\n",
        "print(text_messages[:10])"
      ],
      "execution_count": 26,
      "outputs": [
        {
          "output_type": "stream",
          "text": [
            "0    Go until jurong point, crazy.. Available only ...\n",
            "1                        Ok lar... Joking wif u oni...\n",
            "2    Free entry in 2 a wkly comp to win FA Cup fina...\n",
            "3    U dun say so early hor... U c already then say...\n",
            "4    Nah I don't think he goes to usf, he lives aro...\n",
            "5    FreeMsg Hey there darling it's been 3 week's n...\n",
            "6    Even my brother is not like to speak with me. ...\n",
            "7    As per your request 'Melle Melle (Oru Minnamin...\n",
            "8    WINNER!! As a valued network customer you have...\n",
            "9    Had your mobile 11 months or more? U R entitle...\n",
            "Name: 1, dtype: object\n"
          ],
          "name": "stdout"
        }
      ]
    },
    {
      "cell_type": "code",
      "metadata": {
        "id": "f5gzqYuXCwVc",
        "colab_type": "code",
        "colab": {
          "base_uri": "https://localhost:8080/",
          "height": 204
        },
        "outputId": "dc5de351-b3b6-4d15-efb7-6e67afc1f84b"
      },
      "source": [
        "# USE REGEX to replace emails, phone numbers, symbols, other numbers\n",
        "\n",
        "# replace email addresses with 'emailaddr\n",
        "\n",
        "processed = text_messages.str.replace(r'^\\w+@[a-zA-Z_]+?\\.[a-zA-Z]{2,3}$', 'emailaddr')\n",
        "\n",
        "# replace webaddr with webaddr\n",
        "processed = processed.str.replace(r'^((?:2[0-5]{2}|1\\d{2}|[1-9]\\d|[1-9])\\.(?:(?:2[0-5]{2}|1\\d{2}|[1-9]\\d|\\d)\\.){2}(?:2[0-5]{2}|1\\d{2}|[1-9]\\d|\\d)):(\\d|[1-9]\\d|[1-9]\\d{2,3}|[1-5]\\d{4}|6[0-4]\\d{3}|654\\d{2}|655[0-2]\\d|6553[0-5])$', 'webaddress')\n",
        "\n",
        "processed = processed.str.replace(r'$', 'moneysymb')\n",
        "\n",
        "processed = processed.str.replace(r'^[2-9]\\d{2}-\\d{3}-\\d{4}$', 'phonenumber')\n",
        "\n",
        "processed = processed.str.replace(r'/\\[\\d+\\]/g', 'number')\n",
        "\n",
        "processed = processed.str.replace(r'[\\.\\,\\'\\(\\)[]{}\\!\\?\\\\-]', '')\n",
        "\n",
        "processed = processed.str.replace('\\s+', ' ')\n",
        "\n",
        "processed = processed.str.replace('\\A\\s+', '')\n",
        "\n",
        "print(processed[:10])"
      ],
      "execution_count": 37,
      "outputs": [
        {
          "output_type": "stream",
          "text": [
            "0    Go until jurong point, crazy.. Available only ...\n",
            "1                        Ok lar... Joking wif u oni...\n",
            "2    Free entry in 2 a wkly comp to win FA Cup fina...\n",
            "3    U dun say so early hor... U c already then say...\n",
            "4    Nah I don't think he goes to usf, he lives aro...\n",
            "5    FreeMsg Hey there darling it's been 3 week's n...\n",
            "6    Even my brother is not like to speak with me. ...\n",
            "7    As per your request 'Melle Melle (Oru Minnamin...\n",
            "8    WINNER!! As a valued network customer you have...\n",
            "9    Had your mobile 11 months or more? U R entitle...\n",
            "Name: 1, dtype: object\n"
          ],
          "name": "stdout"
        }
      ]
    },
    {
      "cell_type": "code",
      "metadata": {
        "id": "x7q1QIHaHQL8",
        "colab_type": "code",
        "colab": {
          "base_uri": "https://localhost:8080/",
          "height": 51
        },
        "outputId": "39db249a-c120-4fc7-dd88-790f65633588"
      },
      "source": [
        "nltk.download('stopwords')\n",
        "from nltk.corpus import stopwords\n",
        "\n",
        "stop_words = set(stopwords.words('english'))\n",
        "procesed = processed.apply(lambda x: ' '.join(term for term in x.split() if term not in stop_words))"
      ],
      "execution_count": 38,
      "outputs": [
        {
          "output_type": "stream",
          "text": [
            "[nltk_data] Downloading package stopwords to /root/nltk_data...\n",
            "[nltk_data]   Package stopwords is already up-to-date!\n"
          ],
          "name": "stdout"
        }
      ]
    },
    {
      "cell_type": "code",
      "metadata": {
        "id": "PMd1JP7kIoEI",
        "colab_type": "code",
        "colab": {}
      },
      "source": [
        "ps = nltk.PorterStemmer()\n",
        "\n",
        "processed = processed.apply(lambda x: ' '.join(ps.stem(term) for term in x.split()))"
      ],
      "execution_count": 39,
      "outputs": []
    },
    {
      "cell_type": "code",
      "metadata": {
        "id": "i6ibfY1xJEge",
        "colab_type": "code",
        "colab": {
          "base_uri": "https://localhost:8080/",
          "height": 221
        },
        "outputId": "a6a9e2b3-f215-4750-f1ea-86102e46415a"
      },
      "source": [
        "print(processed)"
      ],
      "execution_count": 40,
      "outputs": [
        {
          "output_type": "stream",
          "text": [
            "0       Go until jurong point, crazy.. avail onli in b...\n",
            "1                             Ok lar... joke wif u oni...\n",
            "2       free entri in 2 a wkli comp to win FA cup fina...\n",
            "3       U dun say so earli hor... U c alreadi then say...\n",
            "4       nah I don't think he goe to usf, he live aroun...\n",
            "                              ...                        \n",
            "5567    thi is the 2nd time we have tri 2 contact u. U...\n",
            "5568                     will ü b go to esplanad fr home?\n",
            "5569    pity, * wa in mood for that. so...ani other su...\n",
            "5570    the guy did some bitch but I act like i'd be i...\n",
            "5571                             rofl. it true to it name\n",
            "Name: 1, Length: 5572, dtype: object\n"
          ],
          "name": "stdout"
        }
      ]
    },
    {
      "cell_type": "code",
      "metadata": {
        "id": "p2RpZjFdJatz",
        "colab_type": "code",
        "colab": {
          "base_uri": "https://localhost:8080/",
          "height": 51
        },
        "outputId": "2c5db754-2828-470a-f82c-0d5c4c8eaa32"
      },
      "source": [
        "#tokenize each word\n",
        "nltk.download('punkt')\n",
        "from nltk.tokenize import word_tokenize\n",
        "\n",
        "#bag of words model, extract words\n",
        "\n",
        "all_words = []\n",
        "\n",
        "for message in processed:\n",
        "  words = word_tokenize(message)\n",
        "  for w in words:\n",
        "    all_words.append(w)\n",
        "\n",
        "all_words = nltk.FreqDist(all_words)"
      ],
      "execution_count": 41,
      "outputs": [
        {
          "output_type": "stream",
          "text": [
            "[nltk_data] Downloading package punkt to /root/nltk_data...\n",
            "[nltk_data]   Package punkt is already up-to-date!\n"
          ],
          "name": "stdout"
        }
      ]
    },
    {
      "cell_type": "code",
      "metadata": {
        "id": "BFo-znFjKLsz",
        "colab_type": "code",
        "colab": {
          "base_uri": "https://localhost:8080/",
          "height": 71
        },
        "outputId": "16cc340f-62d5-426c-f4cb-9061aad5a65f"
      },
      "source": [
        "print('Number of Words: {}'.format(len(all_words)))\n",
        "print('Most Number of Words: {}'.format(all_words.most_common(15)))"
      ],
      "execution_count": 42,
      "outputs": [
        {
          "output_type": "stream",
          "text": [
            "Number of Words: 9499\n",
            "Most Number of Words: [('.', 4811), ('you', 2165), ('to', 2160), (',', 1939), ('?', 1550), ('I', 1480), ('!', 1397), ('i', 1363), ('a', 1339), ('the', 1333), ('...', 1261), ('and', 973), ('&', 922), ('it', 860), ('in', 832)]\n"
          ],
          "name": "stdout"
        }
      ]
    }
  ]
}